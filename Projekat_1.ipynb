{
 "cells": [
  {
   "cell_type": "markdown",
   "metadata": {},
   "source": [
    "PROJEKTNI ZADATAK\n"
   ]
  },
  {
   "cell_type": "markdown",
   "metadata": {},
   "source": [
    "Kreirana je neuronska mreza za rad sa RCV1 skupom podataka, koji sadrži novinske članke iz Reutersa i uključuje različite kategorije koje predstavljaju teme članaka. Prlikom rada koristim biblioteku Tensorflow koji se na Windows OS može instalirati komandom:\n",
    "\n",
    "pip install tensorflow\n"
   ]
  },
  {
   "cell_type": "code",
   "execution_count": 1,
   "metadata": {},
   "outputs": [],
   "source": [
    "#Svi potrebni import-i\n",
    "import tensorflow as tf\n",
    "import numpy as np\n",
    "from sklearn.datasets import fetch_rcv1\n",
    "from tensorflow.keras.models import Sequential\n",
    "from sklearn.preprocessing import StandardScaler\n",
    "from tensorflow.keras.layers import Dense, Dropout, Activation, Input\n",
    "from tensorflow.keras.optimizers import Adam\n",
    "from tensorflow.keras.losses import SparseCategoricalCrossentropy\n",
    "from tensorflow.keras.callbacks import ModelCheckpoint\n",
    "from tensorflow.keras.models import load_model\n",
    "from sklearn.model_selection import train_test_split\n",
    "from sklearn.metrics import precision_recall_fscore_support, precision_score, recall_score\n",
    "from tensorflow.keras.callbacks import Callback\n"
   ]
  },
  {
   "cell_type": "markdown",
   "metadata": {},
   "source": [
    "RCV1 sadrži oko 804.414 novinskih članaka, 47.236 riječi kao karakteristike (features) i 103 kategorije (klase). S obzirom da je dovoljno koristiti samo 50% uzoraka, dijelim set u skladu sa tim."
   ]
  },
  {
   "cell_type": "code",
   "execution_count": 2,
   "metadata": {},
   "outputs": [],
   "source": [
    "# Učitavanje podataka\n",
    "rcv1 = fetch_rcv1()\n",
    "X = rcv1.data\n",
    "y = rcv1.target.toarray().argmax(axis=1)  # Pretvaranje cilja u odgovarajući format\n",
    "\n",
    "\n",
    "# Dijeljenje podataka na trening i test skup\n",
    "X_train_full, X_test_full, y_train_full, y_test_full = train_test_split(X, y, test_size=0.5, shuffle=True, random_state=42)\n",
    "X_train, X_test, y_train, y_test = train_test_split(X_train_full, y_train_full, test_size=0.2, shuffle=True, random_state=42)\n",
    "\n",
    "#Normalizacija podataka\n",
    "scaler = StandardScaler(with_mean=False)  # with_mean=False zbog sparse matrice\n",
    "X_train = scaler.fit_transform(X_train)\n",
    "X_test = scaler.transform(X_test)"
   ]
  },
  {
   "cell_type": "code",
   "execution_count": 3,
   "metadata": {},
   "outputs": [
    {
     "name": "stdout",
     "output_type": "stream",
     "text": [
      "X_train_full, X_train\n",
      "(402207, 47236)\n",
      "(321765, 47236)\n",
      "X_test_full, X_test\n",
      "(402207, 47236)\n",
      "(80442, 47236)\n",
      "Y_train_full, Y_train\n",
      "(402207,)\n",
      "(321765,)\n",
      "Y_test_full, Y_test\n",
      "(402207,)\n",
      "(80442,)\n",
      "Number of classes: 103\n"
     ]
    }
   ],
   "source": [
    "#Provjeravanje tipova i formata\n",
    "print(\"X_train_full, X_train\")\n",
    "print(X_train_full.shape)\n",
    "print(X_train.shape)\n",
    "\n",
    "print(\"X_test_full, X_test\")\n",
    "print(X_test_full.shape)\n",
    "print(X_test.shape)\n",
    "\n",
    "print(\"Y_train_full, Y_train\")\n",
    "print(y_train_full.shape)\n",
    "print(y_train.shape)\n",
    "\n",
    "print(\"Y_test_full, Y_test\")\n",
    "print(y_test_full.shape)\n",
    "print(y_test.shape)\n",
    "\n",
    "# Provjeravanje broja jedinstvenih klasa\n",
    "num_classes = np.max(y) + 1\n",
    "print(f\"Number of classes: {num_classes}\")"
   ]
  },
  {
   "cell_type": "markdown",
   "metadata": {},
   "source": [
    "Analizirajući set podataka zaključujemo da je ulazni broj neurona jednak broju karakteristika, a izlazni broju klasa = 103.\n",
    "Za sve slojeve, osim posljednjeg, ćemo koristiiti ReLU aktivacionu funkciju. Mreža ima 5 skrivenih slojeva.\n",
    "\n",
    "Komplajliranje mreže se vrši funkcijom 'compile' kojoj kao metriku proslijeđujemo 'accuracy', uz definisanje Adamovog optimizera.\n",
    "model.summary() omogućava grafički prikaz karakteristika mreže. Za funkciju greške koristimo SparseCategoricalCrossentropy, zbog formata ulaznih podataka."
   ]
  },
  {
   "cell_type": "code",
   "execution_count": 4,
   "metadata": {},
   "outputs": [
    {
     "name": "stderr",
     "output_type": "stream",
     "text": [
      "C:\\Users\\Zeljka Nikolic\\AppData\\Local\\Packages\\PythonSoftwareFoundation.Python.3.12_qbz5n2kfra8p0\\LocalCache\\local-packages\\Python312\\site-packages\\keras\\src\\layers\\core\\dense.py:87: UserWarning: Do not pass an `input_shape`/`input_dim` argument to a layer. When using Sequential models, prefer using an `Input(shape)` object as the first layer in the model instead.\n",
      "  super().__init__(activity_regularizer=activity_regularizer, **kwargs)\n"
     ]
    },
    {
     "data": {
      "text/html": [
       "<pre style=\"white-space:pre;overflow-x:auto;line-height:normal;font-family:Menlo,'DejaVu Sans Mono',consolas,'Courier New',monospace\"><span style=\"font-weight: bold\">Model: \"sequential\"</span>\n",
       "</pre>\n"
      ],
      "text/plain": [
       "\u001b[1mModel: \"sequential\"\u001b[0m\n"
      ]
     },
     "metadata": {},
     "output_type": "display_data"
    },
    {
     "data": {
      "text/html": [
       "<pre style=\"white-space:pre;overflow-x:auto;line-height:normal;font-family:Menlo,'DejaVu Sans Mono',consolas,'Courier New',monospace\">┏━━━━━━━━━━━━━━━━━━━━━━━━━━━━━━━━━┳━━━━━━━━━━━━━━━━━━━━━━━━┳━━━━━━━━━━━━━━━┓\n",
       "┃<span style=\"font-weight: bold\"> Layer (type)                    </span>┃<span style=\"font-weight: bold\"> Output Shape           </span>┃<span style=\"font-weight: bold\">       Param # </span>┃\n",
       "┡━━━━━━━━━━━━━━━━━━━━━━━━━━━━━━━━━╇━━━━━━━━━━━━━━━━━━━━━━━━╇━━━━━━━━━━━━━━━┩\n",
       "│ dense (<span style=\"color: #0087ff; text-decoration-color: #0087ff\">Dense</span>)                   │ (<span style=\"color: #00d7ff; text-decoration-color: #00d7ff\">None</span>, <span style=\"color: #00af00; text-decoration-color: #00af00\">512</span>)            │    <span style=\"color: #00af00; text-decoration-color: #00af00\">24,185,344</span> │\n",
       "├─────────────────────────────────┼────────────────────────┼───────────────┤\n",
       "│ activation (<span style=\"color: #0087ff; text-decoration-color: #0087ff\">Activation</span>)         │ (<span style=\"color: #00d7ff; text-decoration-color: #00d7ff\">None</span>, <span style=\"color: #00af00; text-decoration-color: #00af00\">512</span>)            │             <span style=\"color: #00af00; text-decoration-color: #00af00\">0</span> │\n",
       "├─────────────────────────────────┼────────────────────────┼───────────────┤\n",
       "│ dropout (<span style=\"color: #0087ff; text-decoration-color: #0087ff\">Dropout</span>)               │ (<span style=\"color: #00d7ff; text-decoration-color: #00d7ff\">None</span>, <span style=\"color: #00af00; text-decoration-color: #00af00\">512</span>)            │             <span style=\"color: #00af00; text-decoration-color: #00af00\">0</span> │\n",
       "├─────────────────────────────────┼────────────────────────┼───────────────┤\n",
       "│ dense_1 (<span style=\"color: #0087ff; text-decoration-color: #0087ff\">Dense</span>)                 │ (<span style=\"color: #00d7ff; text-decoration-color: #00d7ff\">None</span>, <span style=\"color: #00af00; text-decoration-color: #00af00\">256</span>)            │       <span style=\"color: #00af00; text-decoration-color: #00af00\">131,328</span> │\n",
       "├─────────────────────────────────┼────────────────────────┼───────────────┤\n",
       "│ activation_1 (<span style=\"color: #0087ff; text-decoration-color: #0087ff\">Activation</span>)       │ (<span style=\"color: #00d7ff; text-decoration-color: #00d7ff\">None</span>, <span style=\"color: #00af00; text-decoration-color: #00af00\">256</span>)            │             <span style=\"color: #00af00; text-decoration-color: #00af00\">0</span> │\n",
       "├─────────────────────────────────┼────────────────────────┼───────────────┤\n",
       "│ dropout_1 (<span style=\"color: #0087ff; text-decoration-color: #0087ff\">Dropout</span>)             │ (<span style=\"color: #00d7ff; text-decoration-color: #00d7ff\">None</span>, <span style=\"color: #00af00; text-decoration-color: #00af00\">256</span>)            │             <span style=\"color: #00af00; text-decoration-color: #00af00\">0</span> │\n",
       "├─────────────────────────────────┼────────────────────────┼───────────────┤\n",
       "│ dense_2 (<span style=\"color: #0087ff; text-decoration-color: #0087ff\">Dense</span>)                 │ (<span style=\"color: #00d7ff; text-decoration-color: #00d7ff\">None</span>, <span style=\"color: #00af00; text-decoration-color: #00af00\">128</span>)            │        <span style=\"color: #00af00; text-decoration-color: #00af00\">32,896</span> │\n",
       "├─────────────────────────────────┼────────────────────────┼───────────────┤\n",
       "│ activation_2 (<span style=\"color: #0087ff; text-decoration-color: #0087ff\">Activation</span>)       │ (<span style=\"color: #00d7ff; text-decoration-color: #00d7ff\">None</span>, <span style=\"color: #00af00; text-decoration-color: #00af00\">128</span>)            │             <span style=\"color: #00af00; text-decoration-color: #00af00\">0</span> │\n",
       "├─────────────────────────────────┼────────────────────────┼───────────────┤\n",
       "│ dropout_2 (<span style=\"color: #0087ff; text-decoration-color: #0087ff\">Dropout</span>)             │ (<span style=\"color: #00d7ff; text-decoration-color: #00d7ff\">None</span>, <span style=\"color: #00af00; text-decoration-color: #00af00\">128</span>)            │             <span style=\"color: #00af00; text-decoration-color: #00af00\">0</span> │\n",
       "├─────────────────────────────────┼────────────────────────┼───────────────┤\n",
       "│ dense_3 (<span style=\"color: #0087ff; text-decoration-color: #0087ff\">Dense</span>)                 │ (<span style=\"color: #00d7ff; text-decoration-color: #00d7ff\">None</span>, <span style=\"color: #00af00; text-decoration-color: #00af00\">64</span>)             │         <span style=\"color: #00af00; text-decoration-color: #00af00\">8,256</span> │\n",
       "├─────────────────────────────────┼────────────────────────┼───────────────┤\n",
       "│ activation_3 (<span style=\"color: #0087ff; text-decoration-color: #0087ff\">Activation</span>)       │ (<span style=\"color: #00d7ff; text-decoration-color: #00d7ff\">None</span>, <span style=\"color: #00af00; text-decoration-color: #00af00\">64</span>)             │             <span style=\"color: #00af00; text-decoration-color: #00af00\">0</span> │\n",
       "├─────────────────────────────────┼────────────────────────┼───────────────┤\n",
       "│ dropout_3 (<span style=\"color: #0087ff; text-decoration-color: #0087ff\">Dropout</span>)             │ (<span style=\"color: #00d7ff; text-decoration-color: #00d7ff\">None</span>, <span style=\"color: #00af00; text-decoration-color: #00af00\">64</span>)             │             <span style=\"color: #00af00; text-decoration-color: #00af00\">0</span> │\n",
       "├─────────────────────────────────┼────────────────────────┼───────────────┤\n",
       "│ dense_4 (<span style=\"color: #0087ff; text-decoration-color: #0087ff\">Dense</span>)                 │ (<span style=\"color: #00d7ff; text-decoration-color: #00d7ff\">None</span>, <span style=\"color: #00af00; text-decoration-color: #00af00\">32</span>)             │         <span style=\"color: #00af00; text-decoration-color: #00af00\">2,080</span> │\n",
       "├─────────────────────────────────┼────────────────────────┼───────────────┤\n",
       "│ activation_4 (<span style=\"color: #0087ff; text-decoration-color: #0087ff\">Activation</span>)       │ (<span style=\"color: #00d7ff; text-decoration-color: #00d7ff\">None</span>, <span style=\"color: #00af00; text-decoration-color: #00af00\">32</span>)             │             <span style=\"color: #00af00; text-decoration-color: #00af00\">0</span> │\n",
       "├─────────────────────────────────┼────────────────────────┼───────────────┤\n",
       "│ dropout_4 (<span style=\"color: #0087ff; text-decoration-color: #0087ff\">Dropout</span>)             │ (<span style=\"color: #00d7ff; text-decoration-color: #00d7ff\">None</span>, <span style=\"color: #00af00; text-decoration-color: #00af00\">32</span>)             │             <span style=\"color: #00af00; text-decoration-color: #00af00\">0</span> │\n",
       "├─────────────────────────────────┼────────────────────────┼───────────────┤\n",
       "│ dense_5 (<span style=\"color: #0087ff; text-decoration-color: #0087ff\">Dense</span>)                 │ (<span style=\"color: #00d7ff; text-decoration-color: #00d7ff\">None</span>, <span style=\"color: #00af00; text-decoration-color: #00af00\">16</span>)             │           <span style=\"color: #00af00; text-decoration-color: #00af00\">528</span> │\n",
       "├─────────────────────────────────┼────────────────────────┼───────────────┤\n",
       "│ activation_5 (<span style=\"color: #0087ff; text-decoration-color: #0087ff\">Activation</span>)       │ (<span style=\"color: #00d7ff; text-decoration-color: #00d7ff\">None</span>, <span style=\"color: #00af00; text-decoration-color: #00af00\">16</span>)             │             <span style=\"color: #00af00; text-decoration-color: #00af00\">0</span> │\n",
       "├─────────────────────────────────┼────────────────────────┼───────────────┤\n",
       "│ dropout_5 (<span style=\"color: #0087ff; text-decoration-color: #0087ff\">Dropout</span>)             │ (<span style=\"color: #00d7ff; text-decoration-color: #00d7ff\">None</span>, <span style=\"color: #00af00; text-decoration-color: #00af00\">16</span>)             │             <span style=\"color: #00af00; text-decoration-color: #00af00\">0</span> │\n",
       "├─────────────────────────────────┼────────────────────────┼───────────────┤\n",
       "│ dense_6 (<span style=\"color: #0087ff; text-decoration-color: #0087ff\">Dense</span>)                 │ (<span style=\"color: #00d7ff; text-decoration-color: #00d7ff\">None</span>, <span style=\"color: #00af00; text-decoration-color: #00af00\">103</span>)            │         <span style=\"color: #00af00; text-decoration-color: #00af00\">1,751</span> │\n",
       "├─────────────────────────────────┼────────────────────────┼───────────────┤\n",
       "│ activation_6 (<span style=\"color: #0087ff; text-decoration-color: #0087ff\">Activation</span>)       │ (<span style=\"color: #00d7ff; text-decoration-color: #00d7ff\">None</span>, <span style=\"color: #00af00; text-decoration-color: #00af00\">103</span>)            │             <span style=\"color: #00af00; text-decoration-color: #00af00\">0</span> │\n",
       "└─────────────────────────────────┴────────────────────────┴───────────────┘\n",
       "</pre>\n"
      ],
      "text/plain": [
       "┏━━━━━━━━━━━━━━━━━━━━━━━━━━━━━━━━━┳━━━━━━━━━━━━━━━━━━━━━━━━┳━━━━━━━━━━━━━━━┓\n",
       "┃\u001b[1m \u001b[0m\u001b[1mLayer (type)                   \u001b[0m\u001b[1m \u001b[0m┃\u001b[1m \u001b[0m\u001b[1mOutput Shape          \u001b[0m\u001b[1m \u001b[0m┃\u001b[1m \u001b[0m\u001b[1m      Param #\u001b[0m\u001b[1m \u001b[0m┃\n",
       "┡━━━━━━━━━━━━━━━━━━━━━━━━━━━━━━━━━╇━━━━━━━━━━━━━━━━━━━━━━━━╇━━━━━━━━━━━━━━━┩\n",
       "│ dense (\u001b[38;5;33mDense\u001b[0m)                   │ (\u001b[38;5;45mNone\u001b[0m, \u001b[38;5;34m512\u001b[0m)            │    \u001b[38;5;34m24,185,344\u001b[0m │\n",
       "├─────────────────────────────────┼────────────────────────┼───────────────┤\n",
       "│ activation (\u001b[38;5;33mActivation\u001b[0m)         │ (\u001b[38;5;45mNone\u001b[0m, \u001b[38;5;34m512\u001b[0m)            │             \u001b[38;5;34m0\u001b[0m │\n",
       "├─────────────────────────────────┼────────────────────────┼───────────────┤\n",
       "│ dropout (\u001b[38;5;33mDropout\u001b[0m)               │ (\u001b[38;5;45mNone\u001b[0m, \u001b[38;5;34m512\u001b[0m)            │             \u001b[38;5;34m0\u001b[0m │\n",
       "├─────────────────────────────────┼────────────────────────┼───────────────┤\n",
       "│ dense_1 (\u001b[38;5;33mDense\u001b[0m)                 │ (\u001b[38;5;45mNone\u001b[0m, \u001b[38;5;34m256\u001b[0m)            │       \u001b[38;5;34m131,328\u001b[0m │\n",
       "├─────────────────────────────────┼────────────────────────┼───────────────┤\n",
       "│ activation_1 (\u001b[38;5;33mActivation\u001b[0m)       │ (\u001b[38;5;45mNone\u001b[0m, \u001b[38;5;34m256\u001b[0m)            │             \u001b[38;5;34m0\u001b[0m │\n",
       "├─────────────────────────────────┼────────────────────────┼───────────────┤\n",
       "│ dropout_1 (\u001b[38;5;33mDropout\u001b[0m)             │ (\u001b[38;5;45mNone\u001b[0m, \u001b[38;5;34m256\u001b[0m)            │             \u001b[38;5;34m0\u001b[0m │\n",
       "├─────────────────────────────────┼────────────────────────┼───────────────┤\n",
       "│ dense_2 (\u001b[38;5;33mDense\u001b[0m)                 │ (\u001b[38;5;45mNone\u001b[0m, \u001b[38;5;34m128\u001b[0m)            │        \u001b[38;5;34m32,896\u001b[0m │\n",
       "├─────────────────────────────────┼────────────────────────┼───────────────┤\n",
       "│ activation_2 (\u001b[38;5;33mActivation\u001b[0m)       │ (\u001b[38;5;45mNone\u001b[0m, \u001b[38;5;34m128\u001b[0m)            │             \u001b[38;5;34m0\u001b[0m │\n",
       "├─────────────────────────────────┼────────────────────────┼───────────────┤\n",
       "│ dropout_2 (\u001b[38;5;33mDropout\u001b[0m)             │ (\u001b[38;5;45mNone\u001b[0m, \u001b[38;5;34m128\u001b[0m)            │             \u001b[38;5;34m0\u001b[0m │\n",
       "├─────────────────────────────────┼────────────────────────┼───────────────┤\n",
       "│ dense_3 (\u001b[38;5;33mDense\u001b[0m)                 │ (\u001b[38;5;45mNone\u001b[0m, \u001b[38;5;34m64\u001b[0m)             │         \u001b[38;5;34m8,256\u001b[0m │\n",
       "├─────────────────────────────────┼────────────────────────┼───────────────┤\n",
       "│ activation_3 (\u001b[38;5;33mActivation\u001b[0m)       │ (\u001b[38;5;45mNone\u001b[0m, \u001b[38;5;34m64\u001b[0m)             │             \u001b[38;5;34m0\u001b[0m │\n",
       "├─────────────────────────────────┼────────────────────────┼───────────────┤\n",
       "│ dropout_3 (\u001b[38;5;33mDropout\u001b[0m)             │ (\u001b[38;5;45mNone\u001b[0m, \u001b[38;5;34m64\u001b[0m)             │             \u001b[38;5;34m0\u001b[0m │\n",
       "├─────────────────────────────────┼────────────────────────┼───────────────┤\n",
       "│ dense_4 (\u001b[38;5;33mDense\u001b[0m)                 │ (\u001b[38;5;45mNone\u001b[0m, \u001b[38;5;34m32\u001b[0m)             │         \u001b[38;5;34m2,080\u001b[0m │\n",
       "├─────────────────────────────────┼────────────────────────┼───────────────┤\n",
       "│ activation_4 (\u001b[38;5;33mActivation\u001b[0m)       │ (\u001b[38;5;45mNone\u001b[0m, \u001b[38;5;34m32\u001b[0m)             │             \u001b[38;5;34m0\u001b[0m │\n",
       "├─────────────────────────────────┼────────────────────────┼───────────────┤\n",
       "│ dropout_4 (\u001b[38;5;33mDropout\u001b[0m)             │ (\u001b[38;5;45mNone\u001b[0m, \u001b[38;5;34m32\u001b[0m)             │             \u001b[38;5;34m0\u001b[0m │\n",
       "├─────────────────────────────────┼────────────────────────┼───────────────┤\n",
       "│ dense_5 (\u001b[38;5;33mDense\u001b[0m)                 │ (\u001b[38;5;45mNone\u001b[0m, \u001b[38;5;34m16\u001b[0m)             │           \u001b[38;5;34m528\u001b[0m │\n",
       "├─────────────────────────────────┼────────────────────────┼───────────────┤\n",
       "│ activation_5 (\u001b[38;5;33mActivation\u001b[0m)       │ (\u001b[38;5;45mNone\u001b[0m, \u001b[38;5;34m16\u001b[0m)             │             \u001b[38;5;34m0\u001b[0m │\n",
       "├─────────────────────────────────┼────────────────────────┼───────────────┤\n",
       "│ dropout_5 (\u001b[38;5;33mDropout\u001b[0m)             │ (\u001b[38;5;45mNone\u001b[0m, \u001b[38;5;34m16\u001b[0m)             │             \u001b[38;5;34m0\u001b[0m │\n",
       "├─────────────────────────────────┼────────────────────────┼───────────────┤\n",
       "│ dense_6 (\u001b[38;5;33mDense\u001b[0m)                 │ (\u001b[38;5;45mNone\u001b[0m, \u001b[38;5;34m103\u001b[0m)            │         \u001b[38;5;34m1,751\u001b[0m │\n",
       "├─────────────────────────────────┼────────────────────────┼───────────────┤\n",
       "│ activation_6 (\u001b[38;5;33mActivation\u001b[0m)       │ (\u001b[38;5;45mNone\u001b[0m, \u001b[38;5;34m103\u001b[0m)            │             \u001b[38;5;34m0\u001b[0m │\n",
       "└─────────────────────────────────┴────────────────────────┴───────────────┘\n"
      ]
     },
     "metadata": {},
     "output_type": "display_data"
    },
    {
     "data": {
      "text/html": [
       "<pre style=\"white-space:pre;overflow-x:auto;line-height:normal;font-family:Menlo,'DejaVu Sans Mono',consolas,'Courier New',monospace\"><span style=\"font-weight: bold\"> Total params: </span><span style=\"color: #00af00; text-decoration-color: #00af00\">24,362,183</span> (92.93 MB)\n",
       "</pre>\n"
      ],
      "text/plain": [
       "\u001b[1m Total params: \u001b[0m\u001b[38;5;34m24,362,183\u001b[0m (92.93 MB)\n"
      ]
     },
     "metadata": {},
     "output_type": "display_data"
    },
    {
     "data": {
      "text/html": [
       "<pre style=\"white-space:pre;overflow-x:auto;line-height:normal;font-family:Menlo,'DejaVu Sans Mono',consolas,'Courier New',monospace\"><span style=\"font-weight: bold\"> Trainable params: </span><span style=\"color: #00af00; text-decoration-color: #00af00\">24,362,183</span> (92.93 MB)\n",
       "</pre>\n"
      ],
      "text/plain": [
       "\u001b[1m Trainable params: \u001b[0m\u001b[38;5;34m24,362,183\u001b[0m (92.93 MB)\n"
      ]
     },
     "metadata": {},
     "output_type": "display_data"
    },
    {
     "data": {
      "text/html": [
       "<pre style=\"white-space:pre;overflow-x:auto;line-height:normal;font-family:Menlo,'DejaVu Sans Mono',consolas,'Courier New',monospace\"><span style=\"font-weight: bold\"> Non-trainable params: </span><span style=\"color: #00af00; text-decoration-color: #00af00\">0</span> (0.00 B)\n",
       "</pre>\n"
      ],
      "text/plain": [
       "\u001b[1m Non-trainable params: \u001b[0m\u001b[38;5;34m0\u001b[0m (0.00 B)\n"
      ]
     },
     "metadata": {},
     "output_type": "display_data"
    }
   ],
   "source": [
    "\n",
    "model = Sequential()\n",
    "\n",
    "# Ulazni sloj\n",
    "model.add(Dense(512, input_shape=(X_train.shape[1],)))\n",
    "model.add(Activation('relu'))\n",
    "model.add(Dropout(0.3))  # Regularizacija\n",
    "\n",
    "# Prvi skriveni sloj\n",
    "model.add(Dense(256))\n",
    "model.add(Activation('relu'))\n",
    "model.add(Dropout(0.3))  # Regularizacija\n",
    "\n",
    "# Drugi skriveni sloj\n",
    "model.add(Dense(128))\n",
    "model.add(Activation('relu'))\n",
    "model.add(Dropout(0.3))  # Regularizacija\n",
    "\n",
    "# Treći skriveni sloj\n",
    "model.add(Dense(64))\n",
    "model.add(Activation('relu'))\n",
    "model.add(Dropout(0.3))  # Regularizacija\n",
    "\n",
    "# Četvrti skriveni sloj\n",
    "model.add(Dense(32))\n",
    "model.add(Activation('relu'))\n",
    "model.add(Dropout(0.3))  # Regularizacija\n",
    "\n",
    "# Peti skriveni sloj\n",
    "model.add(Dense(16))\n",
    "model.add(Activation('relu'))\n",
    "model.add(Dropout(0.3))  # Regularizacija\n",
    "\n",
    "# Izlazni sloj s brojem neurona jednakim broju klasa\n",
    "model.add(Dense(num_classes))\n",
    "model.add(Activation('softmax'))  # Softmax aktivacija za višeklasnu klasifikaciju\n",
    "\n",
    "# Kompajliranje modela sa metrikom: accuracy\n",
    "model.compile(\n",
    "    optimizer=Adam(learning_rate=1e-3),\n",
    "    loss=SparseCategoricalCrossentropy(),\n",
    "    metrics=['accuracy']\n",
    ")\n",
    "\n",
    "\n",
    "# Ispis strukture modela\n",
    "model.summary()"
   ]
  },
  {
   "cell_type": "markdown",
   "metadata": {},
   "source": [
    "Da bismo pratili odziv i preciznost svake epohe i sačuvali chechpoint modela sa najboljim performansama, implementiraćemo PrecisionRecallCallback. \n",
    "Najbolji model se memoriše u fajl best_precision_recall_model sa ekstenzijom 'keras'."
   ]
  },
  {
   "cell_type": "code",
   "execution_count": 5,
   "metadata": {},
   "outputs": [],
   "source": [
    "\n",
    "\n",
    "class PrecisionRecallCallback(Callback):\n",
    "    def __init__(self, X_val, y_val, filepath):\n",
    "        super().__init__()\n",
    "        self.X_test = X_val\n",
    "        self.y_test = y_val\n",
    "        self.filepath = filepath\n",
    "        self.best_precision = -float('inf')\n",
    "        self.best_recall = -float('inf')\n",
    "\n",
    "    def on_epoch_end(self, epoch, logs=None):\n",
    "        # Predikcija na validacionom skupu\n",
    "        y_pred = self.model.predict(self.X_test).argmax(axis=1)\n",
    "\n",
    "        # Računanje preciznosti i odziva\n",
    "        precision = precision_score(self.y_test, y_pred, average='weighted',zero_division=0)\n",
    "        recall = recall_score(self.y_test, y_pred, average='weighted',zero_division=0)\n",
    "\n",
    "        # Ispis preciznosti i odziva\n",
    "        print(f'Epoch {epoch + 1}: Precision: {precision:.4f}, Recall: {recall:.4f}')\n",
    "\n",
    "        # Čuvanje modela na osnovu preciznosti i odziva\n",
    "        if precision > self.best_precision or recall > self.best_recall:\n",
    "            self.best_precision = max(self.best_precision, precision)\n",
    "            self.best_recall = max(self.best_recall, recall)\n",
    "            self.model.save(self.filepath)\n",
    "            print(f'Model saved to {self.filepath} with Precision: {precision:.4f}, Recall: {recall:.4f}')\n",
    "\n",
    "precision_recall_callback = PrecisionRecallCallback(X_test, y_test, 'best_precision_recall_model.keras')\n"
   ]
  },
  {
   "cell_type": "markdown",
   "metadata": {},
   "source": [
    "Treniranje modela po epohama vršimo pozivom funkcije 'fit' koja za praćenje performansi prilikom rada sa podacima koristi instancu funkcije  PrecisionRecallCallback, koja je prethodno definisana."
   ]
  },
  {
   "cell_type": "code",
   "execution_count": 6,
   "metadata": {},
   "outputs": [
    {
     "name": "stdout",
     "output_type": "stream",
     "text": [
      "Epoch 1/10\n",
      "\u001b[1m2514/2514\u001b[0m \u001b[32m━━━━━━━━━━━━━━━━━━━━\u001b[0m\u001b[37m\u001b[0m \u001b[1m42s\u001b[0m 16ms/step\n",
      "Epoch 1: Precision: 0.6016, Recall: 0.6793\n",
      "Model saved to best_precision_recall_model.keras with Precision: 0.6016, Recall: 0.6793\n",
      "\u001b[1m1257/1257\u001b[0m \u001b[32m━━━━━━━━━━━━━━━━━━━━\u001b[0m\u001b[37m\u001b[0m \u001b[1m1019s\u001b[0m 762ms/step - accuracy: 0.4306 - loss: 2.3362 - val_accuracy: 0.6793 - val_loss: 1.1497\n",
      "Epoch 2/10\n",
      "\u001b[1m2514/2514\u001b[0m \u001b[32m━━━━━━━━━━━━━━━━━━━━\u001b[0m\u001b[37m\u001b[0m \u001b[1m127s\u001b[0m 50ms/step\n",
      "Epoch 2: Precision: 0.6494, Recall: 0.7081\n",
      "Model saved to best_precision_recall_model.keras with Precision: 0.6494, Recall: 0.7081\n",
      "\u001b[1m1257/1257\u001b[0m \u001b[32m━━━━━━━━━━━━━━━━━━━━\u001b[0m\u001b[37m\u001b[0m \u001b[1m1044s\u001b[0m 830ms/step - accuracy: 0.6580 - loss: 1.2009 - val_accuracy: 0.7081 - val_loss: 1.1065\n",
      "Epoch 3/10\n",
      "\u001b[1m2514/2514\u001b[0m \u001b[32m━━━━━━━━━━━━━━━━━━━━\u001b[0m\u001b[37m\u001b[0m \u001b[1m47s\u001b[0m 19ms/step\n",
      "Epoch 3: Precision: 0.7000, Recall: 0.7404\n",
      "Model saved to best_precision_recall_model.keras with Precision: 0.7000, Recall: 0.7404\n",
      "\u001b[1m1257/1257\u001b[0m \u001b[32m━━━━━━━━━━━━━━━━━━━━\u001b[0m\u001b[37m\u001b[0m \u001b[1m1002s\u001b[0m 797ms/step - accuracy: 0.7083 - loss: 1.0020 - val_accuracy: 0.7404 - val_loss: 1.1594\n",
      "Epoch 4/10\n",
      "\u001b[1m2514/2514\u001b[0m \u001b[32m━━━━━━━━━━━━━━━━━━━━\u001b[0m\u001b[37m\u001b[0m \u001b[1m42s\u001b[0m 17ms/step\n",
      "Epoch 4: Precision: 0.7329, Recall: 0.7492\n",
      "Model saved to best_precision_recall_model.keras with Precision: 0.7329, Recall: 0.7492\n",
      "\u001b[1m1257/1257\u001b[0m \u001b[32m━━━━━━━━━━━━━━━━━━━━\u001b[0m\u001b[37m\u001b[0m \u001b[1m910s\u001b[0m 724ms/step - accuracy: 0.7435 - loss: 0.8827 - val_accuracy: 0.7492 - val_loss: 1.2476\n",
      "Epoch 5/10\n",
      "\u001b[1m2514/2514\u001b[0m \u001b[32m━━━━━━━━━━━━━━━━━━━━\u001b[0m\u001b[37m\u001b[0m \u001b[1m44s\u001b[0m 17ms/step\n",
      "Epoch 5: Precision: 0.7522, Recall: 0.7557\n",
      "Model saved to best_precision_recall_model.keras with Precision: 0.7522, Recall: 0.7557\n",
      "\u001b[1m1257/1257\u001b[0m \u001b[32m━━━━━━━━━━━━━━━━━━━━\u001b[0m\u001b[37m\u001b[0m \u001b[1m943s\u001b[0m 750ms/step - accuracy: 0.7692 - loss: 0.7941 - val_accuracy: 0.7557 - val_loss: 1.3896\n",
      "Epoch 6/10\n",
      "\u001b[1m2514/2514\u001b[0m \u001b[32m━━━━━━━━━━━━━━━━━━━━\u001b[0m\u001b[37m\u001b[0m \u001b[1m43s\u001b[0m 17ms/step\n",
      "Epoch 6: Precision: 0.7670, Recall: 0.7565\n",
      "Model saved to best_precision_recall_model.keras with Precision: 0.7670, Recall: 0.7565\n",
      "\u001b[1m1257/1257\u001b[0m \u001b[32m━━━━━━━━━━━━━━━━━━━━\u001b[0m\u001b[37m\u001b[0m \u001b[1m895s\u001b[0m 712ms/step - accuracy: 0.7912 - loss: 0.7298 - val_accuracy: 0.7565 - val_loss: 1.5122\n",
      "Epoch 7/10\n",
      "\u001b[1m2514/2514\u001b[0m \u001b[32m━━━━━━━━━━━━━━━━━━━━\u001b[0m\u001b[37m\u001b[0m \u001b[1m50s\u001b[0m 20ms/step\n",
      "Epoch 7: Precision: 0.7745, Recall: 0.7594\n",
      "Model saved to best_precision_recall_model.keras with Precision: 0.7745, Recall: 0.7594\n",
      "\u001b[1m1257/1257\u001b[0m \u001b[32m━━━━━━━━━━━━━━━━━━━━\u001b[0m\u001b[37m\u001b[0m \u001b[1m14444s\u001b[0m 11s/step - accuracy: 0.8061 - loss: 0.6753 - val_accuracy: 0.7594 - val_loss: 1.7709\n",
      "Epoch 8/10\n",
      "\u001b[1m2514/2514\u001b[0m \u001b[32m━━━━━━━━━━━━━━━━━━━━\u001b[0m\u001b[37m\u001b[0m \u001b[1m45s\u001b[0m 18ms/step\n",
      "Epoch 8: Precision: 0.7727, Recall: 0.7573\n",
      "\u001b[1m1257/1257\u001b[0m \u001b[32m━━━━━━━━━━━━━━━━━━━━\u001b[0m\u001b[37m\u001b[0m \u001b[1m886s\u001b[0m 704ms/step - accuracy: 0.8210 - loss: 0.6356 - val_accuracy: 0.7573 - val_loss: 1.8316\n",
      "Epoch 9/10\n",
      "\u001b[1m2514/2514\u001b[0m \u001b[32m━━━━━━━━━━━━━━━━━━━━\u001b[0m\u001b[37m\u001b[0m \u001b[1m53s\u001b[0m 21ms/step\n",
      "Epoch 9: Precision: 0.7769, Recall: 0.7572\n",
      "Model saved to best_precision_recall_model.keras with Precision: 0.7769, Recall: 0.7572\n",
      "\u001b[1m1257/1257\u001b[0m \u001b[32m━━━━━━━━━━━━━━━━━━━━\u001b[0m\u001b[37m\u001b[0m \u001b[1m34446s\u001b[0m 27s/step - accuracy: 0.8313 - loss: 0.6043 - val_accuracy: 0.7572 - val_loss: 1.9277\n",
      "Epoch 10/10\n",
      "\u001b[1m2514/2514\u001b[0m \u001b[32m━━━━━━━━━━━━━━━━━━━━\u001b[0m\u001b[37m\u001b[0m \u001b[1m51s\u001b[0m 20ms/step\n",
      "Epoch 10: Precision: 0.7738, Recall: 0.7616\n",
      "Model saved to best_precision_recall_model.keras with Precision: 0.7738, Recall: 0.7616\n",
      "\u001b[1m1257/1257\u001b[0m \u001b[32m━━━━━━━━━━━━━━━━━━━━\u001b[0m\u001b[37m\u001b[0m \u001b[1m1006s\u001b[0m 800ms/step - accuracy: 0.8414 - loss: 0.5696 - val_accuracy: 0.7616 - val_loss: 2.2050\n"
     ]
    }
   ],
   "source": [
    "EPOCHS = 10\n",
    "BATCH_SIZE = 256\n",
    "\n",
    "\n",
    "history = model.fit(\n",
    "    X_train,\n",
    "    y_train,\n",
    "    epochs=EPOCHS,\n",
    "    batch_size=BATCH_SIZE,\n",
    "    validation_data=(X_test, y_test),\n",
    "    callbacks=[precision_recall_callback]\n",
    ")"
   ]
  },
  {
   "cell_type": "markdown",
   "metadata": {},
   "source": [
    "DRUGI DIO projektnog zadatka se odnosi na pretragu hiperparametara pomoću Optuna biblioteke. Instalacija ove bibliteke na Windows OS se vrši pomoću komande:\n",
    "\n",
    "pip install optuna"
   ]
  },
  {
   "cell_type": "code",
   "execution_count": 3,
   "metadata": {},
   "outputs": [],
   "source": [
    "#Svi potrebni importi\n",
    "import lightgbm as lgb\n",
    "from sklearn.model_selection import GridSearchCV\n",
    "from sklearn.metrics import accuracy_score\n",
    "import optuna\n"
   ]
  },
  {
   "cell_type": "markdown",
   "metadata": {},
   "source": [
    "LightGBM je implementacija algoritma Gradient Boosting Decision Trees (GBDT), pa s tim u vezi radimo sa hiperparametrima: \n",
    "num_leaves - broj listova,\n",
    "feature_fraction - kontroliše broj karakteristika koji se koristi pri građenju svakog stabla,\n",
    "bagging fraction - kontroliše proprociju uzoraka podataka koje svako stablo koristi,\n",
    "min_child_samples - broj uzoraka koji moraju biti prisutni u čvoru prije nego što model može podijeliti taj čvor na dva nova čvora i\n",
    "learning_rate - koeficijent učenja koji određuje koliko će model u svakom koraku učenja prilagoditi svoje predikcije na osnovu grešaka iz prethodnog koraka.\n",
    "\n",
    "Poslije definisanja opsega hiperparametara, kreiramo LightGBM model (radimo sa 50% podataka) za trening i evaluaciju. Vrši se oprimizacija modela u 5 iteracija, tražeći maksimalnu tačnost. \n",
    "\n",
    "Trenira se najbolji model sa optimalnim hiperparametrima na cjelokupnom skupu podataka za treniranje.\n",
    "Evaluira se najbolji model na testnom skupu, računajući preciznost (precision), odziv (recall), i tačnost (accuracy)."
   ]
  },
  {
   "cell_type": "code",
   "execution_count": 4,
   "metadata": {},
   "outputs": [
    {
     "name": "stderr",
     "output_type": "stream",
     "text": [
      "[I 2024-08-21 18:43:24,039] A new study created in memory with name: no-name-01fb8254-7749-424f-a110-672762b61404\n",
      "[I 2024-08-22 08:43:45,324] Trial 0 finished with value: 0.7878222818925437 and parameters: {'num_leaves': 54, 'feature_fraction': 0.6080904263743, 'bagging_fraction': 0.8681621457560066, 'min_child_samples': 23, 'learning_rate': 0.04525045973660737}. Best is trial 0 with value: 0.7878222818925437.\n",
      "[I 2024-08-22 12:09:16,906] Trial 1 finished with value: 0.8082593669973397 and parameters: {'num_leaves': 102, 'feature_fraction': 0.7288393575387057, 'bagging_fraction': 0.7211864764970205, 'min_child_samples': 23, 'learning_rate': 0.010018712969863282}. Best is trial 1 with value: 0.8082593669973397.\n",
      "[I 2024-08-22 15:24:40,980] Trial 2 finished with value: 0.8115039407274807 and parameters: {'num_leaves': 78, 'feature_fraction': 0.8493269310740921, 'bagging_fraction': 0.7264558552312639, 'min_child_samples': 20, 'learning_rate': 0.015729898211458426}. Best is trial 2 with value: 0.8115039407274807.\n",
      "[I 2024-08-22 16:52:32,214] Trial 3 finished with value: 0.716056289003257 and parameters: {'num_leaves': 24, 'feature_fraction': 0.8853133366514863, 'bagging_fraction': 0.6609231347795388, 'min_child_samples': 28, 'learning_rate': 0.08079981860248359}. Best is trial 2 with value: 0.8115039407274807.\n",
      "[I 2024-08-22 18:52:40,710] Trial 4 finished with value: 0.8082966609482608 and parameters: {'num_leaves': 26, 'feature_fraction': 0.8638452042931172, 'bagging_fraction': 0.7342881683489557, 'min_child_samples': 48, 'learning_rate': 0.03132429602589949}. Best is trial 2 with value: 0.8115039407274807.\n"
     ]
    },
    {
     "name": "stdout",
     "output_type": "stream",
     "text": [
      "Number of finished trials: 5\n",
      "Best trial:\n",
      "  Value: 0.8115039407274807\n",
      "  Params: \n",
      "    num_leaves: 78\n",
      "    feature_fraction: 0.8493269310740921\n",
      "    bagging_fraction: 0.7264558552312639\n",
      "    min_child_samples: 20\n",
      "    learning_rate: 0.015729898211458426\n",
      "[LightGBM] [Warning] feature_fraction is set=0.8493269310740921, colsample_bytree=1.0 will be ignored. Current value: feature_fraction=0.8493269310740921\n",
      "[LightGBM] [Warning] bagging_fraction is set=0.7264558552312639, subsample=1.0 will be ignored. Current value: bagging_fraction=0.7264558552312639\n",
      "[LightGBM] [Warning] feature_fraction is set=0.8493269310740921, colsample_bytree=1.0 will be ignored. Current value: feature_fraction=0.8493269310740921\n",
      "[LightGBM] [Warning] bagging_fraction is set=0.7264558552312639, subsample=1.0 will be ignored. Current value: bagging_fraction=0.7264558552312639\n",
      "[LightGBM] [Info] Auto-choosing col-wise multi-threading, the overhead of testing was 84.782888 seconds.\n",
      "You can set `force_col_wise=true` to remove the overhead.\n",
      "[LightGBM] [Info] Total Bins 1445131\n",
      "[LightGBM] [Info] Number of data points in the train set: 321765, number of used features: 24167\n",
      "[LightGBM] [Info] Start training from score -3.499945\n",
      "[LightGBM] [Info] Start training from score -4.213154\n",
      "[LightGBM] [Info] Start training from score -3.195500\n",
      "[LightGBM] [Info] Start training from score -4.768056\n",
      "[LightGBM] [Info] Start training from score -1.708494\n",
      "[LightGBM] [Info] Start training from score -6.524598\n",
      "[LightGBM] [Info] Start training from score -3.245217\n",
      "[LightGBM] [Info] Start training from score -3.159276\n",
      "[LightGBM] [Info] Start training from score -3.740555\n",
      "[LightGBM] [Info] Start training from score -5.308202\n",
      "[LightGBM] [Info] Start training from score -6.397443\n",
      "[LightGBM] [Info] Start training from score -3.935019\n",
      "[LightGBM] [Info] Start training from score -3.558430\n",
      "[LightGBM] [Info] Start training from score -6.583502\n",
      "[LightGBM] [Info] Start training from score -4.534868\n",
      "[LightGBM] [Info] Start training from score -7.910892\n",
      "[LightGBM] [Info] Start training from score -4.495112\n",
      "[LightGBM] [Info] Start training from score -4.641774\n",
      "[LightGBM] [Info] Start training from score -5.923482\n",
      "[LightGBM] [Info] Start training from score -4.615055\n",
      "[LightGBM] [Info] Start training from score -3.641195\n",
      "[LightGBM] [Info] Start training from score -5.127242\n",
      "[LightGBM] [Info] Start training from score -6.443252\n",
      "[LightGBM] [Info] Start training from score -3.224142\n",
      "[LightGBM] [Info] Start training from score -6.183295\n",
      "[LightGBM] [Info] Start training from score -5.397442\n",
      "[LightGBM] [Info] Start training from score -4.100846\n",
      "[LightGBM] [Info] Start training from score -8.312129\n",
      "[LightGBM] [Info] Start training from score -5.063326\n",
      "[LightGBM] [Info] Start training from score -8.170717\n",
      "[LightGBM] [Info] Start training from score -5.006031\n",
      "[LightGBM] [Info] Start training from score -1.616596\n",
      "[LightGBM] [Info] Start training from score -2.932932\n",
      "[LightGBM] [Info] Start training from score -3.655400\n",
      "[LightGBM] [Info] Start training from score -3.053052\n",
      "[LightGBM] [Info] Start training from score -2.501594\n",
      "[LightGBM] [Info] Start training from score -8.418897\n",
      "[LightGBM] [Warning] No further splits with positive gain, best gain: -inf\n",
      "[LightGBM] [Warning] No further splits with positive gain, best gain: -inf\n",
      "[LightGBM] [Warning] feature_fraction is set=0.8493269310740921, colsample_bytree=1.0 will be ignored. Current value: feature_fraction=0.8493269310740921\n",
      "[LightGBM] [Warning] bagging_fraction is set=0.7264558552312639, subsample=1.0 will be ignored. Current value: bagging_fraction=0.7264558552312639\n",
      "Final Precision: 0.8008, Recall: 0.8115, Accuracy: 0.8115\n",
      "LightGBM model je bolji od neuronske mreže.\n"
     ]
    }
   ],
   "source": [
    "def objective(trial):\n",
    "    # Definisanje opsega vrijednosti hiperparametara koje će Optuna optimizovati\n",
    "    param = {\n",
    "        \"objective\": \"multiclass\",\n",
    "        \"metric\": \"multi_logloss\",\n",
    "        \"verbosity\": -1,\n",
    "        \"boosting_type\": \"gbdt\",\n",
    "        \"num_leaves\": trial.suggest_int(\"num_leaves\", 16, 128),  \n",
    "        \"feature_fraction\": trial.suggest_float(\"feature_fraction\", 0.6, 0.9),\n",
    "        \"bagging_fraction\": trial.suggest_float(\"bagging_fraction\", 0.6, 0.9),  \n",
    "        \"min_child_samples\": trial.suggest_int(\"min_child_samples\", 10, 50),  \n",
    "        \"learning_rate\": trial.suggest_float(\"learning_rate\", 0.01, 0.1, log=True)\n",
    "    }\n",
    "    \n",
    "    # Kreiranje i treniranje LightGBM modela\n",
    "    model = lgb.LGBMClassifier(**param)\n",
    "    model.fit(X_train, y_train)\n",
    "    \n",
    "    # Predikcija na testnom skupu\n",
    "    y_pred = model.predict(X_test)\n",
    "    \n",
    "    # Računanje tačnosti\n",
    "    accuracy = accuracy_score(y_test, y_pred)\n",
    "    \n",
    "    return accuracy\n",
    "\n",
    "# Kreiranje studije za optimizaciju\n",
    "study = optuna.create_study(direction=\"maximize\")\n",
    "study.optimize(objective, n_trials=5)\n",
    "\n",
    "# Prikaz rezultata\n",
    "print(\"Number of finished trials: {}\".format(len(study.trials)))\n",
    "print(\"Best trial:\")\n",
    "trial = study.best_trial\n",
    "\n",
    "print(\"  Value: {}\".format(trial.value))\n",
    "print(\"  Params: \")\n",
    "for key, value in trial.params.items():\n",
    "    print(\"    {}: {}\".format(key, value))\n",
    "\n",
    "\n",
    "\n",
    "\n",
    "\n",
    "# Treniranje modela sa najboljim hiperparametrima\n",
    "best_params = trial.params\n",
    "best_model = lgb.LGBMClassifier(**best_params)\n",
    "best_model.fit(X_train, y_train)\n",
    "\n",
    "# Evaluacija na test skupu\n",
    "y_pred = best_model.predict(X_test)\n",
    "precision = precision_score(y_test, y_pred, average='weighted')\n",
    "recall = recall_score(y_test, y_pred, average='weighted')\n",
    "accuracy = accuracy_score(y_test, y_pred)\n",
    "\n",
    "print(f\"Final Precision: {precision:.4f}, Recall: {recall:.4f}, Accuracy: {accuracy:.4f}\")\n",
    "\n",
    "# Upoređivanje performansi sa neuronskom mrežom\n",
    "\n",
    "neural_net_accuracy = 0.7645  # Nije postavljen najnoviji rezltat\n",
    "\n",
    "if accuracy > neural_net_accuracy:\n",
    "    print(\"LightGBM model je bolji od neuronske mreže.\")\n",
    "else:\n",
    "    print(\"Neuronska mreža je bolja od LightGBM modela.\")\n"
   ]
  },
  {
   "cell_type": "markdown",
   "metadata": {},
   "source": [
    "Ukoliko ažuriramo tačnost neuronske mreže i po datoj metrici poredimo performanse, NEURONSKA MREŽA je bolji model za ovaj problem.\n",
    "Posmatrajući odziv i preciznost, LightGBM pokazuje za nijansu bolje rezultate (za 3% u slučaju preciznosti i 5% u slučaju odziva)."
   ]
  },
  {
   "cell_type": "code",
   "execution_count": 5,
   "metadata": {},
   "outputs": [
    {
     "name": "stdout",
     "output_type": "stream",
     "text": [
      "Neuronska mreža je bolja od LightGBM modela.\n"
     ]
    }
   ],
   "source": [
    "neural_net_accuracy = 0.8414  \n",
    "\n",
    "if accuracy > neural_net_accuracy:\n",
    "    print(\"LightGBM model je bolji od neuronske mreže.\")\n",
    "else:\n",
    "    print(\"Neuronska mreža je bolja od LightGBM modela.\")"
   ]
  }
 ],
 "metadata": {
  "kernelspec": {
   "display_name": "Python 3",
   "language": "python",
   "name": "python3"
  },
  "language_info": {
   "codemirror_mode": {
    "name": "ipython",
    "version": 3
   },
   "file_extension": ".py",
   "mimetype": "text/x-python",
   "name": "python",
   "nbconvert_exporter": "python",
   "pygments_lexer": "ipython3",
   "version": "3.12.5"
  }
 },
 "nbformat": 4,
 "nbformat_minor": 2
}
